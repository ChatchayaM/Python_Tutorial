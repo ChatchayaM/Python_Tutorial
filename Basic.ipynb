{
 "cells": [
  {
   "cell_type": "markdown",
   "id": "c6898321",
   "metadata": {},
   "source": [
    "# Data structure\n",
    "- Lists [\"\"] = mutable, access by index\n",
    "- Tuples (\"\") = not mutable, access by index\n",
    "- Dictionaries {\"key\": \"value\"} = mutable, access by Key ([\"key\"]) "
   ]
  },
  {
   "cell_type": "code",
   "execution_count": 127,
   "id": "d9748b45",
   "metadata": {},
   "outputs": [
    {
     "name": "stdout",
     "output_type": "stream",
     "text": [
      "List: ['apple', 'blueberry', 'cherry', 'orange']\n",
      "Second fruit: blueberry\n"
     ]
    }
   ],
   "source": [
    "# Lists\n",
    "fruits = [\"apple\", \"banana\", \"cherry\"]\n",
    "fruits.append(\"orange\")  # add new item\n",
    "fruits[1] = \"blueberry\"  # modify item\n",
    "print(\"List:\", fruits)\n",
    "print(\"Second fruit:\", fruits[1])"
   ]
  },
  {
   "cell_type": "code",
   "execution_count": 128,
   "id": "949f8ab6",
   "metadata": {},
   "outputs": [
    {
     "name": "stdout",
     "output_type": "stream",
     "text": [
      "Tuple: ('red', 'green', 'blue')\n",
      "First color: red\n"
     ]
    }
   ],
   "source": [
    "# Tuples\n",
    "colors = (\"red\", \"green\", \"blue\")\n",
    "print(\"Tuple:\", colors)\n",
    "print(\"First color:\", colors[0])\n",
    "# colors[0] = \"yellow\"  ❌ Error: tuples are immutable\n"
   ]
  },
  {
   "cell_type": "code",
   "execution_count": 129,
   "id": "4afb3dc4",
   "metadata": {},
   "outputs": [
    {
     "name": "stdout",
     "output_type": "stream",
     "text": [
      "Dictionary: {'name': 'Alice', 'age': 22, 'score': 85, 'major': 'AI'}\n",
      "Student Name: Alice\n"
     ]
    }
   ],
   "source": [
    "# Dictionaries\n",
    "student = {\n",
    "    \"name\": \"Alice\",\n",
    "    \"age\": 21,\n",
    "    \"score\": 85\n",
    "}\n",
    "student[\"age\"] = 22  # update value\n",
    "student[\"major\"] = \"AI\"  # add new key-value pair\n",
    "print(\"Dictionary:\", student)\n",
    "print(\"Student Name:\", student[\"name\"])"
   ]
  },
  {
   "cell_type": "markdown",
   "id": "970f5469",
   "metadata": {},
   "source": [
    "# Data type\n",
    " str, int, float"
   ]
  },
  {
   "cell_type": "code",
   "execution_count": 130,
   "id": "2a351145",
   "metadata": {},
   "outputs": [
    {
     "name": "stdout",
     "output_type": "stream",
     "text": [
      "<class 'str'> <class 'int'> <class 'float'>\n"
     ]
    }
   ],
   "source": [
    "Name = 'Jinnie'\n",
    "Age = 16\n",
    "Grade = 3.55\n",
    "\n",
    "print(type(Name), type(Age), type(Grade))"
   ]
  },
  {
   "cell_type": "markdown",
   "id": "8ff99276",
   "metadata": {},
   "source": [
    "# Expression\n",
    "1. (+)\n",
    "2. (-)\n",
    "3. (*)\n",
    "4. (**)\n",
    "5. (/)\n",
    "6. (//)\n",
    "7. (%)"
   ]
  },
  {
   "cell_type": "code",
   "execution_count": 131,
   "id": "b803147d",
   "metadata": {},
   "outputs": [
    {
     "name": "stdout",
     "output_type": "stream",
     "text": [
      "Addition: 13\n",
      "Subtraction: 7\n",
      "Multiplication: 30\n",
      "Division: 3.3333333333333335\n",
      "Floor Division: 3\n",
      "Modulus: 1\n",
      "Exponent: 1000\n"
     ]
    }
   ],
   "source": [
    "# Arithmetic expressions\n",
    "a = 10\n",
    "b = 3\n",
    "\n",
    "print(\"Addition:\", a + b)         \n",
    "print(\"Subtraction:\", a - b)      \n",
    "print(\"Multiplication:\", a * b)  \n",
    "print(\"Division:\", a / b)         \n",
    "print(\"Floor Division:\", a // b)  \n",
    "print(\"Modulus:\", a % b)         \n",
    "print(\"Exponent:\", a ** b)        "
   ]
  },
  {
   "cell_type": "code",
   "execution_count": 132,
   "id": "cd44211e",
   "metadata": {},
   "outputs": [
    {
     "name": "stdout",
     "output_type": "stream",
     "text": [
      "Equal: False\n",
      "Not equal: True\n",
      "Greater than: False\n",
      "Less than: True\n",
      "Greater or equal: False\n",
      "Less or equal: True\n"
     ]
    }
   ],
   "source": [
    "# Comparison expressions\n",
    "x = 5\n",
    "y = 8\n",
    "\n",
    "print(\"Equal:\", x == y)         \n",
    "print(\"Not equal:\", x != y)      \n",
    "print(\"Greater than:\", x > y)     \n",
    "print(\"Less than:\", x < y)        \n",
    "print(\"Greater or equal:\", x >= y) \n",
    "print(\"Less or equal:\", x <= y)    "
   ]
  },
  {
   "cell_type": "code",
   "execution_count": 133,
   "id": "274a5cd8",
   "metadata": {},
   "outputs": [
    {
     "name": "stdout",
     "output_type": "stream",
     "text": [
      "AND: False\n",
      "OR: True\n",
      "NOT: False\n"
     ]
    }
   ],
   "source": [
    "# Logical expressions\n",
    "is_student = True\n",
    "has_pass = False\n",
    "\n",
    "print(\"AND:\", is_student and has_pass)   \n",
    "print(\"OR:\", is_student or has_pass)     \n",
    "print(\"NOT:\", not is_student)            "
   ]
  },
  {
   "cell_type": "code",
   "execution_count": 134,
   "id": "09a9cc4d",
   "metadata": {},
   "outputs": [
    {
     "name": "stdout",
     "output_type": "stream",
     "text": [
      "Is 'banana' in list? True\n",
      "Is 'grape' not in list? True\n"
     ]
    }
   ],
   "source": [
    "# Membership expressions\n",
    "fruits = [\"apple\", \"banana\", \"cherry\"]\n",
    "print(\"Is 'banana' in list?\", \"banana\" in fruits)  \n",
    "print(\"Is 'grape' not in list?\", \"grape\" not in fruits)  "
   ]
  },
  {
   "cell_type": "code",
   "execution_count": 135,
   "id": "6d9233ba",
   "metadata": {},
   "outputs": [
    {
     "name": "stdout",
     "output_type": "stream",
     "text": [
      "a is b: True\n",
      "a is c: False\n",
      "a == c: True\n"
     ]
    }
   ],
   "source": [
    "# Identity expressions\n",
    "a = [1, 2, 3]\n",
    "b = a\n",
    "c = [1, 2, 3]\n",
    "\n",
    "print(\"a is b:\", a is b)         \n",
    "print(\"a is c:\", a is c)         \n",
    "print(\"a == c:\", a == c)         "
   ]
  },
  {
   "cell_type": "code",
   "execution_count": 136,
   "id": "9480c8b4",
   "metadata": {},
   "outputs": [
    {
     "name": "stdout",
     "output_type": "stream",
     "text": [
      "Bitwise AND: 1\n",
      "Bitwise OR: 7\n",
      "Bitwise XOR: 6\n",
      "Bitwise NOT: -6\n",
      "Left shift: 10\n",
      "Right shift: 2\n"
     ]
    }
   ],
   "source": [
    "# Bitwise expressions\n",
    "x = 5  # 0b0101\n",
    "y = 3  # 0b0011\n",
    "\n",
    "print(\"Bitwise AND:\", x & y)     # 1\n",
    "print(\"Bitwise OR:\", x | y)      # 7\n",
    "print(\"Bitwise XOR:\", x ^ y)     # 6\n",
    "print(\"Bitwise NOT:\", ~x)        # -6\n",
    "print(\"Left shift:\", x << 1)     # 10\n",
    "print(\"Right shift:\", x >> 1)    # 2"
   ]
  },
  {
   "cell_type": "code",
   "execution_count": 137,
   "id": "2c1a707e",
   "metadata": {},
   "outputs": [
    {
     "name": "stdout",
     "output_type": "stream",
     "text": [
      "Status: Adult\n"
     ]
    }
   ],
   "source": [
    "# Ternary expression\n",
    "age = 18\n",
    "status = \"Adult\" if age >= 18 else \"Minor\"\n",
    "print(\"Status:\", status)"
   ]
  },
  {
   "cell_type": "markdown",
   "id": "6b8b5f60",
   "metadata": {},
   "source": [
    "# If/Else Conditions with For/While loop comparison\n",
    "can be used in 3 common ways: \n",
    "- standalone = basic condition\n",
    "- with a for **loop** = check many items means that you know how many times, and stop when it meets the condition\n",
    "- with a **while** loop = repeat check until stop, and stop when condition becomes False"
   ]
  },
  {
   "cell_type": "code",
   "execution_count": 138,
   "id": "fbb66aa0",
   "metadata": {},
   "outputs": [],
   "source": [
    "# Stored as a lists\n",
    "Name = [\"James\", \"Harry\", \"Lucy\"]\n",
    "Score = [50, 25, 90]\n",
    "\n",
    "# Single value\n",
    "Age = 22\n"
   ]
  },
  {
   "cell_type": "code",
   "execution_count": 139,
   "id": "1a71b2e5",
   "metadata": {},
   "outputs": [
    {
     "name": "stdout",
     "output_type": "stream",
     "text": [
      "You are adult!\n",
      "\n",
      "James passed the test.\n",
      "\n",
      "James passed the test.\n",
      "\n",
      "Lucy passed the test.\n",
      "\n",
      "James passed the test.\n",
      "Lucy passed the test.\n"
     ]
    }
   ],
   "source": [
    "# if \n",
    "if Age >= 20:\n",
    "    print(\"You are adult!\\n\")\n",
    "\n",
    "# if specific index (James passed which score >= 50)\n",
    "if Score[0] >= 50:\n",
    "    print(f\"{Name[0]} passed the test.\\n\")\n",
    "\n",
    "# if w/ for loop\n",
    "for i in range(len(Name)):\n",
    "    if Score[i] >= 50:\n",
    "        print(f\"{Name[i]} passed the test.\\n\")\n",
    "\n",
    "# if w/ while loop\n",
    "i = 0 # must initialize before while loop everytime\n",
    "while i < len(Name):\n",
    "    if Score[i] >= 50:\n",
    "        print(f\"{Name[i]} passed the test.\")\n",
    "    i += 1"
   ]
  },
  {
   "cell_type": "code",
   "execution_count": 140,
   "id": "9e312253",
   "metadata": {},
   "outputs": [
    {
     "name": "stdout",
     "output_type": "stream",
     "text": [
      "still young\n",
      "\n",
      "Harry did NOT pass\n",
      "\n",
      "Harry did NOT pass\n"
     ]
    }
   ],
   "source": [
    "# if not\n",
    "if not Age >= 30:\n",
    "    print(\"still young\\n\")\n",
    "\n",
    "# if not w/ for loop\n",
    "for i in range(len(Name)):\n",
    "    if not Score[i] >= 50:\n",
    "        print(Name[i], \"did NOT pass\\n\")\n",
    "\n",
    "# if not w/ while loop\n",
    "i = 0\n",
    "while i < len(Name):\n",
    "    if not Score[i] >= 50:\n",
    "        print(Name[i], \"did NOT pass\")\n",
    "    i += 1"
   ]
  },
  {
   "cell_type": "code",
   "execution_count": 141,
   "id": "bd452b95",
   "metadata": {},
   "outputs": [
    {
     "name": "stdout",
     "output_type": "stream",
     "text": [
      "Harry failed the test.\n",
      "\n",
      "James passed\n",
      "\n",
      "Harry failed\n",
      "\n",
      "Lucy passed\n",
      "\n",
      "James passed\n",
      "Harry failed\n",
      "Lucy passed\n"
     ]
    }
   ],
   "source": [
    "# if-else (James passed score >= 50)\n",
    "if Score[1] >= 50:\n",
    "    print(f\"{Name[1]} passed the test.\\n\")\n",
    "else:\n",
    "    print(f\"{Name[1]} failed the test.\\n\")\n",
    "\n",
    "# if-else w/ for loop\n",
    "for i in range(len(Name)):\n",
    "    if Score[i] >= 50:\n",
    "        print(Name[i], \"passed\\n\")\n",
    "    else:\n",
    "        print(Name[i], \"failed\\n\")\n",
    "\n",
    "# if-else w/ while loop\n",
    "i = 0\n",
    "while i < len(Name):\n",
    "    if Score[i] >= 50:\n",
    "        print(Name[i], \"passed\")\n",
    "    else:\n",
    "        print(Name[i], \"failed\")\n",
    "    i += 1\n"
   ]
  },
  {
   "cell_type": "code",
   "execution_count": 142,
   "id": "688b3ec7",
   "metadata": {},
   "outputs": [
    {
     "name": "stdout",
     "output_type": "stream",
     "text": [
      "Welcome\n",
      "\n",
      "Harry needs improvement\n",
      "\n",
      "Harry needs improvement\n",
      "\n",
      "Harry needs improvement\n",
      "\n"
     ]
    }
   ],
   "source": [
    "# if-else-pass\n",
    "#username = \"\"\n",
    "if Age >= 20:\n",
    "    print(\"Welcome\\n\")\n",
    "else:\n",
    "    pass # nothing happens, useful for placeholder\n",
    "\n",
    "# if-else-pass w/ for loop\n",
    "for i in range(len(Name)):\n",
    "    if Score[i] >= 50:\n",
    "        pass  # Do nothing if passed\n",
    "    else:\n",
    "        print(Name[i], \"needs improvement\\n\")\n",
    "\n",
    "# if-pass-else w/ for loop\n",
    "for i in range(len(Name)):\n",
    "    if Score[i] >= 50:\n",
    "        pass  # Do nothing if passed\n",
    "    else:\n",
    "        print(Name[i], \"needs improvement\\n\")\n",
    "\n",
    "# if-pass-else w/ while loop\n",
    "i = 0\n",
    "while i < len(Name):\n",
    "    if Score[i] >= 50:\n",
    "        pass  # Do nothing if passed\n",
    "    else:\n",
    "        print(Name[i], \"needs improvement\\n\")\n",
    "    i += 1\n"
   ]
  },
  {
   "cell_type": "code",
   "execution_count": 143,
   "id": "03196a94",
   "metadata": {},
   "outputs": [
    {
     "name": "stdout",
     "output_type": "stream",
     "text": [
      "You are an adult.\n",
      "\n",
      "Output from if-elif-else w/ for loop:\n",
      "James got grade C\n",
      "Harry got grade F\n",
      "Lucy got grade A\n",
      "\n",
      "Output from if-elif-else w/ while loop:\n",
      "James got grade C\n",
      "Harry got grade F\n",
      "Lucy got grade A\n"
     ]
    }
   ],
   "source": [
    "# if-elif-else \n",
    "if Age < 13:\n",
    "    print(\"You are a child.\\n\")\n",
    "elif Age < 20:\n",
    "    print(\"You are a teenager.\\n\")\n",
    "elif Age < 60:\n",
    "    print(\"You are an adult.\\n\")\n",
    "else:\n",
    "    print(\"You are a senior citizen.\\n\")\n",
    "\n",
    "print(\"Output from if-elif-else w/ for loop:\")\n",
    "# if-elif-else w/ for loop\n",
    "for i in range(len(Name)):\n",
    "    if Score[i] >= 85:\n",
    "        grade = \"A\"\n",
    "    elif Score[i] >= 50:\n",
    "        grade = \"C\"\n",
    "    else:\n",
    "        grade = \"F\"\n",
    "    \n",
    "    print(Name[i], \"got grade\", grade)\n",
    "\n",
    "print(\"\\nOutput from if-elif-else w/ while loop:\")\n",
    "# if-eliflelse w/ while loop\n",
    "i = 0\n",
    "while i < len(Name):\n",
    "    if Score[i] >= 85:\n",
    "        grade = \"A\"\n",
    "    elif Score[i] >= 50:\n",
    "        grade = \"C\"\n",
    "    else:\n",
    "        grade = \"F\"\n",
    "    \n",
    "    print(Name[i], \"got grade\", grade)\n",
    "    i += 1\n"
   ]
  }
 ],
 "metadata": {
  "kernelspec": {
   "display_name": ".venv",
   "language": "python",
   "name": "python3"
  },
  "language_info": {
   "codemirror_mode": {
    "name": "ipython",
    "version": 3
   },
   "file_extension": ".py",
   "mimetype": "text/x-python",
   "name": "python",
   "nbconvert_exporter": "python",
   "pygments_lexer": "ipython3",
   "version": "3.12.8"
  }
 },
 "nbformat": 4,
 "nbformat_minor": 5
}
