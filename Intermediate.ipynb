{
 "cells": [
  {
   "cell_type": "markdown",
   "id": "cba53aac",
   "metadata": {},
   "source": [
    "# List Comprehensions\n",
    "short way to write a for loop that creates a list."
   ]
  },
  {
   "cell_type": "code",
   "execution_count": 3,
   "id": "821a989d",
   "metadata": {},
   "outputs": [
    {
     "name": "stdout",
     "output_type": "stream",
     "text": [
      "Squares: [1, 4, 9, 16, 25]\n",
      "Evens: [2, 4, 6]\n"
     ]
    }
   ],
   "source": [
    "# List of squares using list comprehension\n",
    "squares = [x**2 for x in range(1, 6)]\n",
    "print(\"Squares:\", squares)\n",
    "\n",
    "# Filter even numbers from a list\n",
    "nums = [1, 2, 3, 4, 5, 6]\n",
    "evens = [n for n in nums if n % 2 == 0]\n",
    "print(\"Evens:\", evens)"
   ]
  },
  {
   "cell_type": "markdown",
   "id": "28975818",
   "metadata": {},
   "source": [
    "# Lambda\n",
    "A one-line anonymous function (no def needed)."
   ]
  },
  {
   "cell_type": "code",
   "execution_count": 4,
   "id": "ec90a45c",
   "metadata": {},
   "outputs": [
    {
     "name": "stdout",
     "output_type": "stream",
     "text": [
      "Add: 8\n",
      "Sorted: ['Amy', 'John', 'Zoe']\n"
     ]
    }
   ],
   "source": [
    "# Lambda function to add two numbers\n",
    "add = lambda x, y: x + y\n",
    "print(\"Add:\", add(5, 3))\n",
    "\n",
    "# Lambda in sorted()\n",
    "names = [\"Zoe\", \"Amy\", \"John\"]\n",
    "sorted_names = sorted(names, key=lambda name: name.lower())\n",
    "print(\"Sorted:\", sorted_names)"
   ]
  },
  {
   "cell_type": "markdown",
   "id": "7f466fce",
   "metadata": {},
   "source": [
    "# Error handling with try/except\n",
    "Used to handle exceptions without crashing the program. **When might causean error**"
   ]
  },
  {
   "cell_type": "code",
   "execution_count": 5,
   "id": "a80ad5e0",
   "metadata": {},
   "outputs": [
    {
     "name": "stdout",
     "output_type": "stream",
     "text": [
      "Invalid input.\n"
     ]
    }
   ],
   "source": [
    "# Error handling with try/except\n",
    "try:\n",
    "    num = int(input(\"Enter a number: \"))\n",
    "    result = 10 / num\n",
    "    print(\"Result:\", result)\n",
    "except ZeroDivisionError:\n",
    "    print(\"You can't divide by zero.\")\n",
    "except ValueError:\n",
    "    print(\"Invalid input.\")"
   ]
  },
  {
   "cell_type": "markdown",
   "id": "06fdf2c8",
   "metadata": {},
   "source": [
    "# Decorators\n",
    "Use to modify other functions — often used for logging, access control, etc. **When you want to wrap or extend behavior of another function.**"
   ]
  },
  {
   "cell_type": "code",
   "execution_count": 12,
   "id": "37c37acc",
   "metadata": {},
   "outputs": [
    {
     "name": "stdout",
     "output_type": "stream",
     "text": [
      "Hello!\n",
      "I'm Joy\n",
      "Goodbye!\n"
     ]
    }
   ],
   "source": [
    "# Simple decorator example\n",
    "def greet_decorator(func):\n",
    "    def wrapper():\n",
    "        print(\"Hello!\")\n",
    "        func()\n",
    "        print(\"Goodbye!\")\n",
    "    return wrapper\n",
    "\n",
    "@greet_decorator\n",
    "def say_name():\n",
    "    print(\"I'm Joy\")\n",
    "\n",
    "say_name()"
   ]
  },
  {
   "cell_type": "markdown",
   "id": "aba5bf40",
   "metadata": {},
   "source": [
    "# OOP (Object-Oriented Programming)\n",
    "A class defines a blueprint; an object is an instance. Use for organizing data and behavior together."
   ]
  },
  {
   "cell_type": "code",
   "execution_count": 7,
   "id": "ea27c309",
   "metadata": {},
   "outputs": [
    {
     "name": "stdout",
     "output_type": "stream",
     "text": [
      "My name is James, and I'm 22 years old.\n"
     ]
    }
   ],
   "source": [
    "class Student:\n",
    "    def __init__(self, name, age):\n",
    "        self.name = name\n",
    "        self.age = age\n",
    "\n",
    "    def introduce(self):\n",
    "        print(f\"My name is {self.name}, and I'm {self.age} years old.\")\n",
    "\n",
    "s1 = Student(\"James\", 22)\n",
    "s1.introduce()"
   ]
  },
  {
   "cell_type": "markdown",
   "id": "31a13e3e",
   "metadata": {},
   "source": [
    "# with Statement\n",
    "Use for safe file or resource handling (no need to close manually) automatically handles setup and cleanup, like closing files"
   ]
  },
  {
   "cell_type": "code",
   "execution_count": 8,
   "id": "78e05fb3",
   "metadata": {},
   "outputs": [],
   "source": [
    "# Using `with` for file handling\n",
    "with open(\"example.txt\", \"w\") as f:\n",
    "    f.write(\"This file is managed with a context manager.\")\n",
    "\n",
    "# Automatically closes the file even if error occurs"
   ]
  },
  {
   "cell_type": "markdown",
   "id": "9a890ed4",
   "metadata": {},
   "source": [
    "# *args and **kwargs\n",
    "Use when your function needs to accept flexible arguments.\n",
    "- *args = many unnamed values (as a tuple)\n",
    "- **kwargs = many named values (as a dictionary)"
   ]
  },
  {
   "cell_type": "code",
   "execution_count": 11,
   "id": "d0911fb5",
   "metadata": {},
   "outputs": [
    {
     "name": "stdout",
     "output_type": "stream",
     "text": [
      "Args: ('Gems', 22)\n",
      "Kwargs: {'city': 'Bangkok', 'language': 'English'}\n"
     ]
    }
   ],
   "source": [
    "# Using *args and **kwargs\n",
    "def show_info(*args, **kwargs):\n",
    "    print(\"Args:\", args)\n",
    "    print(\"Kwargs:\", kwargs)\n",
    "\n",
    "show_info(\"Gems\", 22, city=\"Bangkok\", language=\"English\")"
   ]
  }
 ],
 "metadata": {
  "kernelspec": {
   "display_name": ".venv",
   "language": "python",
   "name": "python3"
  },
  "language_info": {
   "codemirror_mode": {
    "name": "ipython",
    "version": 3
   },
   "file_extension": ".py",
   "mimetype": "text/x-python",
   "name": "python",
   "nbconvert_exporter": "python",
   "pygments_lexer": "ipython3",
   "version": "3.12.8"
  }
 },
 "nbformat": 4,
 "nbformat_minor": 5
}
